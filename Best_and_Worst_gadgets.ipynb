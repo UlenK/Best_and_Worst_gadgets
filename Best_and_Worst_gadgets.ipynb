{
  "nbformat": 4,
  "nbformat_minor": 0,
  "metadata": {
    "colab": {
      "provenance": []
    },
    "kernelspec": {
      "name": "python3",
      "display_name": "Python 3"
    },
    "language_info": {
      "name": "python"
    }
  },
  "cells": [
    {
      "cell_type": "markdown",
      "source": [
        "### Problem Statement :\n",
        "#### You are a data analyst working for a company called \"Gadget Corp.\" Gadget Corp. sells a variety of electronic gadgets and has recently conducted a customer satisfaction survey. The survey data is stored in a list of dictionaries, where each dictionary represents a survey response. Each response contains the customer's name, the gadget they purchased, and their satisfaction ratings for multiple criteria: performance, design, and value. However, some responses might be missing ratings for one or more criteria.\n",
        "Your tasks\n",
        "1. Write a Python function \"sort_gadget_by_satisfaction\" that processes this survey data and calculates the average satisfaction rating for each criterion for each gadget. Additionally, you need to identify the gadget with the highest overall average satisfaction rating, combining all criteria. The final output should be a sorted list of gadgets in descending order of their overall average satisfaction, along with their average ratings for each criterion.\n",
        "2. Create another function \"get_best_and_worst_gadget\"  which gets the best and the worst gadget by taking in the output from \"sort_gadget_by_satisfaction\" as input. eg.output  {\"best\":\"Laptop\",\"worst\":\"Smartwatch\"}\n",
        "\n",
        "Requirements:\n",
        "\n",
        "*Ensure your solution handles cases where there might be missing ratings for some criteria*.\n",
        "\n",
        "*If multiple gadgets have the same highest overall average rating, their order in the sorted list can be arbitrary*."
      ],
      "metadata": {
        "id": "_hgcqtTJI2YU"
      }
    },
    {
      "cell_type": "code",
      "source": [
        "# Defining 'average' UDF as we need it frequently to calculate average rating\n",
        "\n",
        "def average(rating): # rating argument is list of intergers\n",
        "\n",
        "    # obtaining a list of Non-None values using list comprehension to calculate mean values\n",
        "    non_none = [x for x in rating if x is not None]\n",
        "\n",
        "    # calculating mean value of the Non-None values\n",
        "    non_none_avg = sum(non_none)/len(non_none)\n",
        "\n",
        "    # Imputing the None value with the mean to the original list\n",
        "    rating = [non_none_avg if x is None else x for x in rating]\n",
        "\n",
        "    # Calculating new mean of the cleaned list\n",
        "    avg = round(sum(rating)/len(rating),2)\n",
        "\n",
        "    #returning the average value\n",
        "    return avg"
      ],
      "metadata": {
        "id": "omNaVERxI4B7"
      },
      "execution_count": null,
      "outputs": []
    },
    {
      "cell_type": "code",
      "source": [
        "def sort_gadget_by_satisfaction(survey_responses): # survery_responses is the list of dicts of the ratings\n",
        "\n",
        "    g_name = set() # set to store unique gadget names\n",
        "\n",
        "    #making a list unqiue product names\n",
        "    for i in survey_responses:\n",
        "        g_name.add(i['gadget'])\n",
        "\n",
        "    #Unique Criteria names\n",
        "    criteria = [\"performance\", \"design\", \"value\"]\n",
        "\n",
        "\n",
        "    #temporary dict to store rating for each gadget, which will get change for each criterion\n",
        "    rating_dict = {}\n",
        "\n",
        "    #dict to store the average rating for each criterion for each criterion to calculate overall rating\n",
        "    overall_dict = {}\n",
        "\n",
        "    # assigning an empty list to each key of the dicts\n",
        "    for i in g_name:\n",
        "        rating_dict[i] = []\n",
        "        overall_dict[i] = []\n",
        "\n",
        "    # Loop for each criterion eg. Loop 1 - Peformance, Loop 2 - Design, Loop 3 - Value\n",
        "    for i in criteria:\n",
        "\n",
        "        print(\"On\", i.title(), \":\")\n",
        "        print(\"-\"*(len(i)+4))\n",
        "\n",
        "        # Going through each dict of the survey_list\n",
        "        for j in survey_responses:\n",
        "            rating_dict[j['gadget']].append(j.get(i))\n",
        "\n",
        "        # Calcualting average rating for each gadgets for a particular criterion\n",
        "        for k in rating_dict:\n",
        "            avg = average(rating_dict[k])\n",
        "            print(k, \" : \", avg)\n",
        "\n",
        "            overall_dict[k].append(avg) # storing the average value to the overall_dict\n",
        "        print(\"\")\n",
        "\n",
        "        for l in g_name:\n",
        "            rating_dict[l] = []  #emptying the temp. lsit of rating before storing the rating values of new criterion\n",
        "\n",
        "    # Calculating the overall rating for each gadget\n",
        "    print(\"Overall rating : \")\n",
        "    print(\"-\"*15)\n",
        "    for i in overall_dict:\n",
        "        avg = average(overall_dict[i])\n",
        "        print(i, \" : \", avg)\n",
        "        overall_dict[i] = avg # updating each list of rating with their average ratings\n",
        "\n",
        "    # for the selection of worst and best product\n",
        "    return get_best_and_worst_gadget(overall_dict)"
      ],
      "metadata": {
        "id": "fmiVeZ6VJH0l"
      },
      "execution_count": null,
      "outputs": []
    },
    {
      "cell_type": "code",
      "source": [
        "def get_best_and_worst_gadget(d): # d is the dict with overall averages of all gadgets\n",
        "\n",
        "    final = {\"best\":[], \"worst\":[]} # the list ensures that if more than one gadgets have the same rating for worst or best\n",
        "\n",
        "    # assuming the worst rating is 0, which is used for further comparision\n",
        "    mx = 0\n",
        "    # for best gadgets\n",
        "    for key, value in d.items():\n",
        "\n",
        "        # replacing with the new key if it has greater avg rating\n",
        "        if value > mx :\n",
        "            final['best'] = [key]\n",
        "            mx = value\n",
        "\n",
        "        # Append if it has the same value with the prior maximum value\n",
        "        elif value == mx :\n",
        "            final['best'].append(key)\n",
        "\n",
        "    # Assuming the updated max as min value, if it is assigned to 0, we wont be able to fetch the desired data\n",
        "    mn = mx\n",
        "    for key, value in d.items():\n",
        "        # replacing with the new key if it has lower avg rating\n",
        "        if value < mn :\n",
        "            final[\"worst\"] = [key]\n",
        "            mn = value\n",
        "        # Append if it has the same value with the prior minimum value\n",
        "        elif value == mn :\n",
        "            final[\"worst\"].append(key)\n",
        "    print(\"\\nBest and Worst Gadgets : \",final)\n"
      ],
      "metadata": {
        "id": "nJ1xb13JJNMa"
      },
      "execution_count": null,
      "outputs": []
    },
    {
      "cell_type": "code",
      "source": [
        "def main():\n",
        "    # Sample data\n",
        "    survey_responses = [\n",
        "    {\"name\": \"Alice\", \"gadget\": \"Smartphone\", \"performance\": 4, \"design\": 5, \"value\": 4},\n",
        "    {\"name\": \"Bob\", \"gadget\": \"Laptop\", \"performance\": 5, \"design\": 4, \"value\": 3},\n",
        "    {\"name\": \"Charlie\", \"gadget\": \"Smartphone\", \"performance\": 3, \"design\": 4},\n",
        "    {\"name\": \"Dave\", \"gadget\": \"Smartwatch\", \"performance\": 4, \"design\": 5, \"value\": 5},\n",
        "    {\"name\": \"Eve\", \"gadget\": \"Smartwatch\", \"performance\": 5, \"design\": 4, \"value\": 4},\n",
        "    {\"name\": \"Frank\", \"gadget\": \"Laptop\", \"performance\": 4, \"value\": 4},\n",
        "    {\"name\": \"Grace\", \"gadget\": \"Smartphone\", \"performance\": 5, \"design\": 4, \"value\": 4},\n",
        "    {\"name\": \"Heidi\", \"gadget\": \"Laptop\", \"design\": 5, \"value\": 4}\n",
        "     ]\n",
        "\n",
        "    sort_gadget_by_satisfaction(survey_responses)"
      ],
      "metadata": {
        "id": "ANH9p1OfJRiL"
      },
      "execution_count": null,
      "outputs": []
    },
    {
      "cell_type": "code",
      "source": [
        "main()"
      ],
      "metadata": {
        "colab": {
          "base_uri": "https://localhost:8080/"
        },
        "id": "vdEo9zPrJT1T",
        "outputId": "1cd622d7-2e33-4d97-9b33-4a2ac18dd16a"
      },
      "execution_count": null,
      "outputs": [
        {
          "output_type": "stream",
          "name": "stdout",
          "text": [
            "On Performance :\n",
            "---------------\n",
            "Laptop  :  4.5\n",
            "Smartphone  :  4.0\n",
            "Smartwatch  :  4.5\n",
            "\n",
            "On Design :\n",
            "----------\n",
            "Laptop  :  4.5\n",
            "Smartphone  :  4.33\n",
            "Smartwatch  :  4.5\n",
            "\n",
            "On Value :\n",
            "---------\n",
            "Laptop  :  3.67\n",
            "Smartphone  :  4.0\n",
            "Smartwatch  :  4.5\n",
            "\n",
            "Overall rating : \n",
            "---------------\n",
            "Laptop  :  4.22\n",
            "Smartphone  :  4.11\n",
            "Smartwatch  :  4.5\n",
            "\n",
            "Best and Worst Gadgets :  {'best': ['Smartwatch'], 'worst': ['Smartphone']}\n"
          ]
        }
      ]
    }
  ]
}